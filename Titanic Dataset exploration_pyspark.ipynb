{
 "cells": [
  {
   "cell_type": "code",
   "execution_count": 1,
   "id": "744e5ce3-ceff-49b6-89b3-2ec2b1c893a1",
   "metadata": {
    "tags": []
   },
   "outputs": [],
   "source": [
    "import pyspark #importing pyspark\n",
    "from pyspark.sql import SparkSession\n",
    "from pyspark.sql.functions import count, sum #importing sum and count"
   ]
  },
  {
   "cell_type": "code",
   "execution_count": 2,
   "id": "20de8e57-da1a-40ad-91c9-fac446dab7e5",
   "metadata": {
    "tags": []
   },
   "outputs": [],
   "source": [
    "spark = SparkSession.builder.appName(\"handson\").getOrCreate() #creating spark session handson"
   ]
  },
  {
   "cell_type": "code",
   "execution_count": 3,
   "id": "38cd1d4f-20c0-4ae7-aee3-e29ca0af2f73",
   "metadata": {
    "tags": []
   },
   "outputs": [
    {
     "name": "stdout",
     "output_type": "stream",
     "text": [
      "+-----------+--------+------+--------------------+------+---+-----+-----+----------------+-------+-----+--------+\n",
      "|PassengerId|Survived|Pclass|                Name|   Sex|Age|SibSp|Parch|          Ticket|   Fare|Cabin|Embarked|\n",
      "+-----------+--------+------+--------------------+------+---+-----+-----+----------------+-------+-----+--------+\n",
      "|          1|       0|     3|Braund, Mr. Owen ...|  male| 22|    1|    0|       A/5 21171|   7.25| null|       S|\n",
      "|          2|       1|     1|Cumings, Mrs. Joh...|female| 38|    1|    0|        PC 17599|71.2833|  C85|       C|\n",
      "|          3|       1|     3|Heikkinen, Miss. ...|female| 26|    0|    0|STON/O2. 3101282|  7.925| null|       S|\n",
      "|          4|       1|     1|Futrelle, Mrs. Ja...|female| 35|    1|    0|          113803|   53.1| C123|       S|\n",
      "|          5|       0|     3|Allen, Mr. Willia...|  male| 35|    0|    0|          373450|   8.05| null|       S|\n",
      "+-----------+--------+------+--------------------+------+---+-----+-----+----------------+-------+-----+--------+\n",
      "only showing top 5 rows\n",
      "\n",
      "root\n",
      " |-- PassengerId: string (nullable = true)\n",
      " |-- Survived: string (nullable = true)\n",
      " |-- Pclass: string (nullable = true)\n",
      " |-- Name: string (nullable = true)\n",
      " |-- Sex: string (nullable = true)\n",
      " |-- Age: string (nullable = true)\n",
      " |-- SibSp: string (nullable = true)\n",
      " |-- Parch: string (nullable = true)\n",
      " |-- Ticket: string (nullable = true)\n",
      " |-- Fare: string (nullable = true)\n",
      " |-- Cabin: string (nullable = true)\n",
      " |-- Embarked: string (nullable = true)\n",
      "\n"
     ]
    }
   ],
   "source": [
    "df = spark.read.csv(\"/home/jovyan/titanic.csv\", header = True) #reading CSV\n",
    "df.show(5) #showing 5 rows from CSV\n",
    "df.printSchema() # print Schema of DF"
   ]
  },
  {
   "cell_type": "code",
   "execution_count": 4,
   "id": "3a714bc6-6c54-46d6-a8f8-c550d88df529",
   "metadata": {
    "tags": []
   },
   "outputs": [],
   "source": [
    "df.createOrReplaceTempView(\"titanic\")  # create "
   ]
  },
  {
   "cell_type": "markdown",
   "id": "9414bcd9-9b8f-4525-a38b-9d0459acf935",
   "metadata": {},
   "source": [
    "# A.How many people survive and how many people dead"
   ]
  },
  {
   "cell_type": "code",
   "execution_count": 5,
   "id": "2d5671dc-3f42-45fa-a0cd-6f43ea77d1b1",
   "metadata": {
    "tags": []
   },
   "outputs": [
    {
     "name": "stdout",
     "output_type": "stream",
     "text": [
      "People Survived : \n",
      " \n",
      "+--------+-----+\n",
      "|Survived|count|\n",
      "+--------+-----+\n",
      "|       1|  342|\n",
      "+--------+-----+\n",
      "\n",
      "People Dead : \n",
      " \n",
      "+--------+-----+\n",
      "|Survived|count|\n",
      "+--------+-----+\n",
      "|       0|  549|\n",
      "+--------+-----+\n",
      "\n"
     ]
    }
   ],
   "source": [
    "survived_count = df.groupBy('Survived').agg(count('*').alias('count')) # grouped by Survivved and counting the rows\n",
    "print(\"People Survived : \\n \")\n",
    "survived_count.filter(survived_count[\"Survived\"] == 1).show() # 1 is survived -> filtering only survived count\n",
    "print(\"People Dead : \\n \")\n",
    "survived_count.filter(survived_count[\"Survived\"] == 0).show() # 0 is dead -> filtering only death count "
   ]
  },
  {
   "cell_type": "code",
   "execution_count": 6,
   "id": "864f446e-2c28-4a86-a093-c6bb05db97d8",
   "metadata": {
    "tags": []
   },
   "outputs": [
    {
     "name": "stdout",
     "output_type": "stream",
     "text": [
      "People Survived : \n",
      " \n",
      "+-----------+\n",
      "|Count_alive|\n",
      "+-----------+\n",
      "|        342|\n",
      "+-----------+\n",
      "\n",
      "People Death : \n",
      " \n",
      "+----------+\n",
      "|Count_dead|\n",
      "+----------+\n",
      "|       549|\n",
      "+----------+\n",
      "\n"
     ]
    }
   ],
   "source": [
    "print(\"People Survived : \\n \")\n",
    "spark.sql(\n",
    "    \"SELECT COUNT(*) AS Count_alive FROM titanic WHERE Survived=1\"\n",
    ").show() # Selecting alive people from titanic csv\n",
    "\n",
    "print(\"People Death : \\n \")\n",
    "spark.sql(\n",
    "    \"select COUNT(*) AS Count_dead FROM titanic WHERE Survived=0\"\n",
    ").show() # Selecting dead people from titanic csv\n"
   ]
  },
  {
   "cell_type": "markdown",
   "id": "3f0ad367-b7c6-45d6-9e4a-33a4f8b62c68",
   "metadata": {},
   "source": [
    "# doing calculation for people with no siblings and death count using group by"
   ]
  },
  {
   "cell_type": "code",
   "execution_count": 7,
   "id": "42e4a673-b122-4de5-8a4d-979a57f15675",
   "metadata": {
    "tags": []
   },
   "outputs": [
    {
     "name": "stdout",
     "output_type": "stream",
     "text": [
      "+-----------+--------+------+--------------------+------+----+-----+-----+----------------+-------+-----+--------+\n",
      "|PassengerId|Survived|Pclass|                Name|   Sex| Age|SibSp|Parch|          Ticket|   Fare|Cabin|Embarked|\n",
      "+-----------+--------+------+--------------------+------+----+-----+-----+----------------+-------+-----+--------+\n",
      "|          3|       1|     3|Heikkinen, Miss. ...|female|  26|    0|    0|STON/O2. 3101282|  7.925| null|       S|\n",
      "|          5|       0|     3|Allen, Mr. Willia...|  male|  35|    0|    0|          373450|   8.05| null|       S|\n",
      "|          6|       0|     3|    Moran, Mr. James|  male|null|    0|    0|          330877| 8.4583| null|       Q|\n",
      "|          7|       0|     1|McCarthy, Mr. Tim...|  male|  54|    0|    0|           17463|51.8625|  E46|       S|\n",
      "|          9|       1|     3|Johnson, Mrs. Osc...|female|  27|    0|    2|          347742|11.1333| null|       S|\n",
      "+-----------+--------+------+--------------------+------+----+-----+-----+----------------+-------+-----+--------+\n",
      "only showing top 5 rows\n",
      "\n",
      "+--------+-----+\n",
      "|Survived|count|\n",
      "+--------+-----+\n",
      "|       0|  398|\n",
      "|       1|  210|\n",
      "+--------+-----+\n",
      "\n"
     ]
    }
   ],
   "source": [
    "no_siblings_df = df.filter(df['SibSp'] == 0) #filtering people who does not have siblings\n",
    "no_siblings_df.show(5) #showing only 5 rows from dataframe\n",
    "no_sib_count = no_siblings_df.groupBy('Survived').agg(count('*').alias('count')) #counting how many people died and survived among not having siblings\n",
    "no_sib_count.show() "
   ]
  },
  {
   "cell_type": "markdown",
   "id": "a4d2c49c-0acf-4640-8062-b4a90111d9e9",
   "metadata": {},
   "source": [
    "# B.How many people survive how does not have sibling"
   ]
  },
  {
   "cell_type": "code",
   "execution_count": 8,
   "id": "5800e407-9ede-4f4c-b5bf-64fe70dd3862",
   "metadata": {
    "tags": []
   },
   "outputs": [
    {
     "name": "stdout",
     "output_type": "stream",
     "text": [
      "+--------+-----+\n",
      "|Survived|count|\n",
      "+--------+-----+\n",
      "|       1|  210|\n",
      "+--------+-----+\n",
      "\n"
     ]
    }
   ],
   "source": [
    "no_sib_count.filter(no_sib_count['Survived'] == 1).show() #showing only alive people count without sibiling from above computation"
   ]
  },
  {
   "cell_type": "code",
   "execution_count": 9,
   "id": "4fe8c0eb-dfa5-4c6a-a423-eb3aef22a2a4",
   "metadata": {
    "tags": []
   },
   "outputs": [
    {
     "name": "stdout",
     "output_type": "stream",
     "text": [
      "+-----------+\n",
      "|Count_alive|\n",
      "+-----------+\n",
      "|        210|\n",
      "+-----------+\n",
      "\n"
     ]
    }
   ],
   "source": [
    "spark.sql(\n",
    "    \"select COUNT(*) AS Count_alive FROM titanic where Survived= 1 and SibSp = 0\"\n",
    ").show() # counting rows where survived is 1 and sibilings is 0"
   ]
  },
  {
   "cell_type": "markdown",
   "id": "5c1b39c9-b85d-496f-99c2-9e20faba04e6",
   "metadata": {},
   "source": [
    "# C.How many people died Who does not have sibling"
   ]
  },
  {
   "cell_type": "code",
   "execution_count": 10,
   "id": "470a1d66-6b4b-42b5-b049-14954874dd74",
   "metadata": {
    "tags": []
   },
   "outputs": [
    {
     "name": "stdout",
     "output_type": "stream",
     "text": [
      "+--------+-----+\n",
      "|Survived|count|\n",
      "+--------+-----+\n",
      "|       0|  398|\n",
      "+--------+-----+\n",
      "\n"
     ]
    }
   ],
   "source": [
    "no_sib_count.filter(no_sib_count['Survived'] == 0).show()  #showing only dead people count without sibilings from above computation"
   ]
  },
  {
   "cell_type": "code",
   "execution_count": 11,
   "id": "dd53541c-0971-4daf-a641-3c7b47b1ff0b",
   "metadata": {
    "tags": []
   },
   "outputs": [
    {
     "name": "stdout",
     "output_type": "stream",
     "text": [
      "+-----------+\n",
      "|Count_alive|\n",
      "+-----------+\n",
      "|        398|\n",
      "+-----------+\n",
      "\n"
     ]
    }
   ],
   "source": [
    "spark.sql(\n",
    "    \"select COUNT(*) AS Count_alive FROM titanic where Survived= 0 and SibSp = 0\"\n",
    ").show() # counting rows where survived is 0 (dead) and sibilings is 0"
   ]
  },
  {
   "cell_type": "markdown",
   "id": "66fd9b2a-14ae-456b-8291-068dbdd70f00",
   "metadata": {},
   "source": [
    "# D.Remove the NAN data from cabin and display updated list"
   ]
  },
  {
   "cell_type": "code",
   "execution_count": 12,
   "id": "c6c5d398-4720-4652-a952-19b6f99ccd6f",
   "metadata": {
    "tags": []
   },
   "outputs": [
    {
     "name": "stdout",
     "output_type": "stream",
     "text": [
      "+-----------+--------+------+--------------------+------+---+-----+-----+--------+-------+-----+--------+\n",
      "|PassengerId|Survived|Pclass|                Name|   Sex|Age|SibSp|Parch|  Ticket|   Fare|Cabin|Embarked|\n",
      "+-----------+--------+------+--------------------+------+---+-----+-----+--------+-------+-----+--------+\n",
      "|          2|       1|     1|Cumings, Mrs. Joh...|female| 38|    1|    0|PC 17599|71.2833|  C85|       C|\n",
      "|          4|       1|     1|Futrelle, Mrs. Ja...|female| 35|    1|    0|  113803|   53.1| C123|       S|\n",
      "|          7|       0|     1|McCarthy, Mr. Tim...|  male| 54|    0|    0|   17463|51.8625|  E46|       S|\n",
      "|         11|       1|     3|Sandstrom, Miss. ...|female|  4|    1|    1| PP 9549|   16.7|   G6|       S|\n",
      "|         12|       1|     1|Bonnell, Miss. El...|female| 58|    0|    0|  113783|  26.55| C103|       S|\n",
      "+-----------+--------+------+--------------------+------+---+-----+-----+--------+-------+-----+--------+\n",
      "only showing top 5 rows\n",
      "\n"
     ]
    }
   ],
   "source": [
    "not_null_cabin = df.filter(df[\"Cabin\"].isNotNull()) # find not null in cabin\n",
    "not_null_cabin.show(5) # showing 5 rows"
   ]
  },
  {
   "cell_type": "code",
   "execution_count": 13,
   "id": "83962d4f-063a-4782-8c4f-f2beaddd6eb2",
   "metadata": {
    "tags": []
   },
   "outputs": [
    {
     "name": "stdout",
     "output_type": "stream",
     "text": [
      "+-----------+--------+------+--------------------+------+---+-----+-----+--------+-------+-----+--------+\n",
      "|PassengerId|Survived|Pclass|                Name|   Sex|Age|SibSp|Parch|  Ticket|   Fare|Cabin|Embarked|\n",
      "+-----------+--------+------+--------------------+------+---+-----+-----+--------+-------+-----+--------+\n",
      "|          2|       1|     1|Cumings, Mrs. Joh...|female| 38|    1|    0|PC 17599|71.2833|  C85|       C|\n",
      "|          4|       1|     1|Futrelle, Mrs. Ja...|female| 35|    1|    0|  113803|   53.1| C123|       S|\n",
      "|          7|       0|     1|McCarthy, Mr. Tim...|  male| 54|    0|    0|   17463|51.8625|  E46|       S|\n",
      "|         11|       1|     3|Sandstrom, Miss. ...|female|  4|    1|    1| PP 9549|   16.7|   G6|       S|\n",
      "|         12|       1|     1|Bonnell, Miss. El...|female| 58|    0|    0|  113783|  26.55| C103|       S|\n",
      "+-----------+--------+------+--------------------+------+---+-----+-----+--------+-------+-----+--------+\n",
      "only showing top 5 rows\n",
      "\n"
     ]
    }
   ],
   "source": [
    "spark.sql(\"SELECT * FROM titanic WHERE Cabin IS NOT NULL\").show(5)# selecting rows with cabin as not null and showing 5 rows"
   ]
  },
  {
   "cell_type": "markdown",
   "id": "7e86a246-e0c3-473a-b284-048c9991d52e",
   "metadata": {},
   "source": [
    "# E.How many male who died and how many female died?"
   ]
  },
  {
   "cell_type": "code",
   "execution_count": 14,
   "id": "2c084839-6ca5-484d-bccf-dcff6670fc7f",
   "metadata": {
    "tags": []
   },
   "outputs": [
    {
     "name": "stdout",
     "output_type": "stream",
     "text": [
      "Male and Female who died\n",
      "+------+-----+\n",
      "|   Sex|count|\n",
      "+------+-----+\n",
      "|female|   81|\n",
      "|  male|  468|\n",
      "+------+-----+\n",
      "\n"
     ]
    }
   ],
   "source": [
    "grouped_survived = df.filter(df['Survived'] == 0) #filtering dataframe with survivedd column as 0 == dead people\n",
    "males_females_died_count = grouped_survived.groupBy('Sex').agg(count('*').alias('count'))#counting the sex by grouped by\n",
    "print(\"Male and Female who died\")\n",
    "males_females_died_count.show()#showing the count from above computation"
   ]
  },
  {
   "cell_type": "code",
   "execution_count": 15,
   "id": "771caf37-af48-4e2c-bb5e-44d55916f974",
   "metadata": {
    "tags": []
   },
   "outputs": [
    {
     "name": "stdout",
     "output_type": "stream",
     "text": [
      "+------+-----------+\n",
      "|   Sex|Count_alive|\n",
      "+------+-----------+\n",
      "|female|         81|\n",
      "|  male|        468|\n",
      "+------+-----------+\n",
      "\n"
     ]
    }
   ],
   "source": [
    "spark.sql(\n",
    "'''select Sex, COUNT(*) AS Count_alive FROM (\n",
    "    select * from titanic where Survived = 0\n",
    ") group by Sex\n",
    "        \n",
    "    '''\n",
    ").show() #selecting sex column and counting the rows only from the subquery... which gives rows which has dead people "
   ]
  }
 ],
 "metadata": {
  "kernelspec": {
   "display_name": "Python 3 (ipykernel)",
   "language": "python",
   "name": "python3"
  },
  "language_info": {
   "codemirror_mode": {
    "name": "ipython",
    "version": 3
   },
   "file_extension": ".py",
   "mimetype": "text/x-python",
   "name": "python",
   "nbconvert_exporter": "python",
   "pygments_lexer": "ipython3",
   "version": "3.10.10"
  }
 },
 "nbformat": 4,
 "nbformat_minor": 5
}
